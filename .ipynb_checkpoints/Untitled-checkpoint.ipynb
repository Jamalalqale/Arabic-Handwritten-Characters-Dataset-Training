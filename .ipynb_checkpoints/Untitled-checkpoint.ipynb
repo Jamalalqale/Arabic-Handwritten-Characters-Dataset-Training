{
 "cells": [
  {
   "cell_type": "markdown",
   "metadata": {},
   "source": [
    "# ML Homwork 2\n",
    "## Jamal Alqale \n",
    "## Ayham Alyosef "
   ]
  },
  {
   "cell_type": "code",
   "execution_count": 1,
   "metadata": {},
   "outputs": [],
   "source": [
    "import pandas as pd\n",
    "from sklearn.metrics import mean_squared_error, r2_score\n",
    "\n",
    "## Regression Library\n",
    "from sklearn.tree import DecisionTreeRegressor\n",
    "\n",
    "## Classificaton Library\n",
    "\n",
    "from sklearn import tree\n",
    "from sklearn.metrics import accuracy_score\n",
    "\n",
    "from matplotlib import pyplot as plt\n",
    "from sklearn.model_selection import train_test_split\n",
    "\n",
    "from sklearn.preprocessing import StandardScaler\n",
    "import numpy as np\n",
    "import matplotlib.pyplot as plt\n",
    "from sklearn.neural_network import MLPClassifier\n",
    "\n"
   ]
  },
  {
   "cell_type": "markdown",
   "metadata": {},
   "source": [
    "# Read all dataset"
   ]
  },
  {
   "cell_type": "code",
   "execution_count": 39,
   "metadata": {},
   "outputs": [],
   "source": [
    "csvTestImagesWithlabel=pd.read_csv(\"csvTestImagesWithlabel.csv\",header=None)\n",
    "csvTrainImagesWithlabel=pd.read_csv(\"csvTrainImagesWithlabel.csv\",header=None)\n",
    "\n",
    "\n",
    "\n",
    "csvTrainImages=pd.read_csv(\"csvTrainImages 13440x1024.csv\",header=None)\n",
    "csvTestImages=pd.read_csv(\"csvTestImages 3360x1024.csv\",header=None)\n",
    "csvTrainLabel=pd.read_csv(\"csvTrainLabel 13440x1.csv\",header=None)\n",
    "csvTestLabel=pd.read_csv(\"csvTestLabel 3360x1.csv\",header=None)\n",
    "\n",
    "\n",
    "\n",
    "\n",
    "\n",
    "\n",
    "\n",
    "#csvTrainImagesWithlabel.describe()"
   ]
  },
  {
   "cell_type": "code",
   "execution_count": 3,
   "metadata": {},
   "outputs": [
    {
     "data": {
      "text/html": [
       "<div>\n",
       "<style scoped>\n",
       "    .dataframe tbody tr th:only-of-type {\n",
       "        vertical-align: middle;\n",
       "    }\n",
       "\n",
       "    .dataframe tbody tr th {\n",
       "        vertical-align: top;\n",
       "    }\n",
       "\n",
       "    .dataframe thead th {\n",
       "        text-align: right;\n",
       "    }\n",
       "</style>\n",
       "<table border=\"1\" class=\"dataframe\">\n",
       "  <thead>\n",
       "    <tr style=\"text-align: right;\">\n",
       "      <th></th>\n",
       "      <th>0</th>\n",
       "      <th>1</th>\n",
       "      <th>2</th>\n",
       "      <th>3</th>\n",
       "      <th>4</th>\n",
       "      <th>5</th>\n",
       "      <th>6</th>\n",
       "      <th>7</th>\n",
       "      <th>8</th>\n",
       "      <th>9</th>\n",
       "      <th>...</th>\n",
       "      <th>1015</th>\n",
       "      <th>1016</th>\n",
       "      <th>1017</th>\n",
       "      <th>1018</th>\n",
       "      <th>1019</th>\n",
       "      <th>1020</th>\n",
       "      <th>1021</th>\n",
       "      <th>1022</th>\n",
       "      <th>1023</th>\n",
       "      <th>1024</th>\n",
       "    </tr>\n",
       "  </thead>\n",
       "  <tbody>\n",
       "    <tr>\n",
       "      <td>0</td>\n",
       "      <td>0</td>\n",
       "      <td>0</td>\n",
       "      <td>0</td>\n",
       "      <td>0</td>\n",
       "      <td>0</td>\n",
       "      <td>0</td>\n",
       "      <td>0</td>\n",
       "      <td>0</td>\n",
       "      <td>0</td>\n",
       "      <td>0</td>\n",
       "      <td>...</td>\n",
       "      <td>0</td>\n",
       "      <td>0</td>\n",
       "      <td>0</td>\n",
       "      <td>0</td>\n",
       "      <td>0</td>\n",
       "      <td>0</td>\n",
       "      <td>0</td>\n",
       "      <td>0</td>\n",
       "      <td>0</td>\n",
       "      <td>24</td>\n",
       "    </tr>\n",
       "    <tr>\n",
       "      <td>1</td>\n",
       "      <td>0</td>\n",
       "      <td>0</td>\n",
       "      <td>0</td>\n",
       "      <td>0</td>\n",
       "      <td>0</td>\n",
       "      <td>0</td>\n",
       "      <td>0</td>\n",
       "      <td>0</td>\n",
       "      <td>0</td>\n",
       "      <td>0</td>\n",
       "      <td>...</td>\n",
       "      <td>0</td>\n",
       "      <td>0</td>\n",
       "      <td>0</td>\n",
       "      <td>0</td>\n",
       "      <td>0</td>\n",
       "      <td>0</td>\n",
       "      <td>0</td>\n",
       "      <td>0</td>\n",
       "      <td>0</td>\n",
       "      <td>12</td>\n",
       "    </tr>\n",
       "    <tr>\n",
       "      <td>2</td>\n",
       "      <td>0</td>\n",
       "      <td>0</td>\n",
       "      <td>0</td>\n",
       "      <td>0</td>\n",
       "      <td>0</td>\n",
       "      <td>0</td>\n",
       "      <td>0</td>\n",
       "      <td>0</td>\n",
       "      <td>0</td>\n",
       "      <td>0</td>\n",
       "      <td>...</td>\n",
       "      <td>0</td>\n",
       "      <td>0</td>\n",
       "      <td>0</td>\n",
       "      <td>0</td>\n",
       "      <td>0</td>\n",
       "      <td>0</td>\n",
       "      <td>0</td>\n",
       "      <td>0</td>\n",
       "      <td>0</td>\n",
       "      <td>5</td>\n",
       "    </tr>\n",
       "    <tr>\n",
       "      <td>3</td>\n",
       "      <td>0</td>\n",
       "      <td>0</td>\n",
       "      <td>0</td>\n",
       "      <td>0</td>\n",
       "      <td>0</td>\n",
       "      <td>0</td>\n",
       "      <td>0</td>\n",
       "      <td>0</td>\n",
       "      <td>0</td>\n",
       "      <td>0</td>\n",
       "      <td>...</td>\n",
       "      <td>0</td>\n",
       "      <td>0</td>\n",
       "      <td>0</td>\n",
       "      <td>0</td>\n",
       "      <td>0</td>\n",
       "      <td>0</td>\n",
       "      <td>0</td>\n",
       "      <td>0</td>\n",
       "      <td>0</td>\n",
       "      <td>3</td>\n",
       "    </tr>\n",
       "    <tr>\n",
       "      <td>4</td>\n",
       "      <td>0</td>\n",
       "      <td>0</td>\n",
       "      <td>0</td>\n",
       "      <td>0</td>\n",
       "      <td>0</td>\n",
       "      <td>0</td>\n",
       "      <td>0</td>\n",
       "      <td>0</td>\n",
       "      <td>0</td>\n",
       "      <td>0</td>\n",
       "      <td>...</td>\n",
       "      <td>0</td>\n",
       "      <td>0</td>\n",
       "      <td>0</td>\n",
       "      <td>0</td>\n",
       "      <td>0</td>\n",
       "      <td>0</td>\n",
       "      <td>0</td>\n",
       "      <td>0</td>\n",
       "      <td>0</td>\n",
       "      <td>27</td>\n",
       "    </tr>\n",
       "  </tbody>\n",
       "</table>\n",
       "<p>5 rows × 1025 columns</p>\n",
       "</div>"
      ],
      "text/plain": [
       "   0     1     2     3     4     5     6     7     8     9     ...  1015  \\\n",
       "0     0     0     0     0     0     0     0     0     0     0  ...     0   \n",
       "1     0     0     0     0     0     0     0     0     0     0  ...     0   \n",
       "2     0     0     0     0     0     0     0     0     0     0  ...     0   \n",
       "3     0     0     0     0     0     0     0     0     0     0  ...     0   \n",
       "4     0     0     0     0     0     0     0     0     0     0  ...     0   \n",
       "\n",
       "   1016  1017  1018  1019  1020  1021  1022  1023  1024  \n",
       "0     0     0     0     0     0     0     0     0    24  \n",
       "1     0     0     0     0     0     0     0     0    12  \n",
       "2     0     0     0     0     0     0     0     0     5  \n",
       "3     0     0     0     0     0     0     0     0     3  \n",
       "4     0     0     0     0     0     0     0     0    27  \n",
       "\n",
       "[5 rows x 1025 columns]"
      ]
     },
     "execution_count": 3,
     "metadata": {},
     "output_type": "execute_result"
    }
   ],
   "source": [
    "csvTrainImagesWithlabel.head()"
   ]
  },
  {
   "cell_type": "code",
   "execution_count": 51,
   "metadata": {},
   "outputs": [
    {
     "name": "stdout",
     "output_type": "stream",
     "text": [
      "Number of columns and rows in the TestSet\n"
     ]
    },
    {
     "data": {
      "text/plain": [
       "(13440, 1024)"
      ]
     },
     "execution_count": 51,
     "metadata": {},
     "output_type": "execute_result"
    }
   ],
   "source": [
    "# Number of columns and rows in the Trainset\n",
    "print (\"Number of columns and rows in the TestSet\") \n",
    "csvTrainImages.shape"
   ]
  },
  {
   "cell_type": "code",
   "execution_count": 52,
   "metadata": {},
   "outputs": [
    {
     "name": "stdout",
     "output_type": "stream",
     "text": [
      "Number of columns and rows in the TrainSet\n"
     ]
    },
    {
     "data": {
      "text/plain": [
       "(3360, 1024)"
      ]
     },
     "execution_count": 52,
     "metadata": {},
     "output_type": "execute_result"
    }
   ],
   "source": [
    "print (\"Number of columns and rows in the TrainSet\") \n",
    "csvTestImages.shape"
   ]
  },
  {
   "cell_type": "code",
   "execution_count": 94,
   "metadata": {},
   "outputs": [],
   "source": [
    "\n",
    "names=[]\n",
    "for i in range(1024):    \n",
    "    names.append(i)\n",
    "\n",
    "csvTrainImages.columns = names\n",
    "csvTestImages.columns = names\n",
    "\n"
   ]
  },
  {
   "cell_type": "code",
   "execution_count": 13,
   "metadata": {},
   "outputs": [],
   "source": [
    "trainSet = csvTrainImagesWithlabel.iloc[:, :1024].values\n",
    "trainLabel = csvTrainImagesWithlabel.iloc[:,-1].values\n",
    "\n",
    "testSet = csvTestImagesWithlabel.iloc[:, :1024].values\n",
    "testLabel = csvTestImagesWithlabel.iloc[:,-1].values\n",
    "\n",
    "\n"
   ]
  },
  {
   "cell_type": "code",
   "execution_count": 14,
   "metadata": {},
   "outputs": [
    {
     "data": {
      "text/plain": [
       "(13440, 1024)"
      ]
     },
     "execution_count": 14,
     "metadata": {},
     "output_type": "execute_result"
    }
   ],
   "source": [
    "trainSet.shape"
   ]
  },
  {
   "cell_type": "code",
   "execution_count": 15,
   "metadata": {},
   "outputs": [
    {
     "data": {
      "text/plain": [
       "(13440,)"
      ]
     },
     "execution_count": 15,
     "metadata": {},
     "output_type": "execute_result"
    }
   ],
   "source": [
    "trainLabel.shape"
   ]
  },
  {
   "cell_type": "code",
   "execution_count": 17,
   "metadata": {},
   "outputs": [
    {
     "data": {
      "text/plain": [
       "array([24, 12,  5, ...,  2, 24, 28], dtype=int64)"
      ]
     },
     "execution_count": 17,
     "metadata": {},
     "output_type": "execute_result"
    }
   ],
   "source": [
    "trainLabel"
   ]
  },
  {
   "cell_type": "markdown",
   "metadata": {},
   "source": [
    "#  Regression Tree \n",
    "## using Regression Tree to predict the class column\n",
    "## Fitting the tree (class)"
   ]
  },
  {
   "cell_type": "code",
   "execution_count": 19,
   "metadata": {},
   "outputs": [],
   "source": [
    "Tree_reg=DecisionTreeRegressor()\n",
    "reg_Tree_Class= Tree_reg.fit(trainSet,trainLabel)\n",
    "TrainLabel_pred= reg_Tree_Class.predict(testSet)"
   ]
  },
  {
   "cell_type": "markdown",
   "metadata": {},
   "source": [
    "## Checking the Validation (Compute the error)"
   ]
  },
  {
   "cell_type": "code",
   "execution_count": 20,
   "metadata": {},
   "outputs": [
    {
     "name": "stdout",
     "output_type": "stream",
     "text": [
      "Regression Tree vailidation: -12.311621966794384%\n",
      "Mean squared error: 73.28\n",
      "Variance score: -0.12\n"
     ]
    }
   ],
   "source": [
    "#the vaildation of the Tree\n",
    "print(\"Regression Tree vailidation: {}%\".format(reg_Tree_Class.score(testSet,testLabel)*100))\n",
    "# The mean squared error\n",
    "print(\"Mean squared error: %.2f\" % mean_squared_error(testLabel, TrainLabel_pred))\n",
    "# Explained variance score: 1 is perfect prediction\n",
    "print('Variance score: %.2f' % r2_score(testLabel, TrainLabel_pred)) "
   ]
  },
  {
   "cell_type": "markdown",
   "metadata": {},
   "source": [
    "# Training the model using MLP"
   ]
  },
  {
   "cell_type": "markdown",
   "metadata": {},
   "source": [
    "Now it is time to train our model. SciKit Learn makes this incredibly easy, by using estimator objects. In this case we will import our estimator (the Multi-Layer Perceptron Classifier model) from the neural_network library of SciKit-Learn!"
   ]
  },
  {
   "cell_type": "code",
   "execution_count": 4,
   "metadata": {},
   "outputs": [],
   "source": [
    "mlp = MLPClassifier(hidden_layer_sizes=(16,16,16),max_iter=500)"
   ]
  },
  {
   "cell_type": "code",
   "execution_count": 5,
   "metadata": {},
   "outputs": [
    {
     "data": {
      "text/plain": [
       "MLPClassifier(activation='relu', alpha=0.0001, batch_size='auto', beta_1=0.9,\n",
       "              beta_2=0.999, early_stopping=False, epsilon=1e-08,\n",
       "              hidden_layer_sizes=(16, 16, 16), learning_rate='constant',\n",
       "              learning_rate_init=0.001, max_iter=500, momentum=0.9,\n",
       "              n_iter_no_change=10, nesterovs_momentum=True, power_t=0.5,\n",
       "              random_state=None, shuffle=True, solver='adam', tol=0.0001,\n",
       "              validation_fraction=0.1, verbose=False, warm_start=False)"
      ]
     },
     "execution_count": 5,
     "metadata": {},
     "output_type": "execute_result"
    }
   ],
   "source": [
    "mlp.fit(trainSet,trainLabel)"
   ]
  },
  {
   "cell_type": "markdown",
   "metadata": {},
   "source": [
    "# Predictions and Evaluation"
   ]
  },
  {
   "cell_type": "code",
   "execution_count": 6,
   "metadata": {},
   "outputs": [],
   "source": [
    "predict_train = mlp.predict(trainSet)\n",
    "predict_test = mlp.predict(testSet)"
   ]
  },
  {
   "cell_type": "code",
   "execution_count": 7,
   "metadata": {},
   "outputs": [
    {
     "name": "stdout",
     "output_type": "stream",
     "text": [
      "              precision    recall  f1-score   support\n",
      "\n",
      "           1       0.99      0.99      0.99       480\n",
      "           2       0.83      0.71      0.77       480\n",
      "           3       0.51      0.17      0.25       480\n",
      "           4       0.39      0.52      0.44       480\n",
      "           5       0.46      0.37      0.41       480\n",
      "           6       0.38      0.39      0.39       480\n",
      "           7       0.42      0.41      0.42       480\n",
      "           8       0.63      0.75      0.69       480\n",
      "           9       0.77      0.72      0.74       480\n",
      "          10       0.83      0.84      0.83       480\n",
      "          11       0.88      0.85      0.86       480\n",
      "          12       0.52      0.37      0.43       480\n",
      "          13       0.33      0.62      0.43       480\n",
      "          14       0.52      0.57      0.54       480\n",
      "          15       0.42      0.37      0.40       480\n",
      "          16       0.65      0.61      0.63       480\n",
      "          17       0.55      0.51      0.53       480\n",
      "          18       0.82      0.20      0.32       480\n",
      "          19       0.51      0.65      0.57       480\n",
      "          20       0.32      0.43      0.37       480\n",
      "          21       0.43      0.29      0.34       480\n",
      "          22       0.28      0.54      0.37       480\n",
      "          23       0.64      0.86      0.73       480\n",
      "          24       0.56      0.84      0.67       480\n",
      "          25       0.45      0.44      0.44       480\n",
      "          26       0.77      0.61      0.68       480\n",
      "          27       0.74      0.61      0.67       480\n",
      "          28       0.50      0.14      0.22       480\n",
      "\n",
      "    accuracy                           0.55     13440\n",
      "   macro avg       0.58      0.55      0.54     13440\n",
      "weighted avg       0.58      0.55      0.54     13440\n",
      "\n"
     ]
    }
   ],
   "source": [
    "from sklearn.metrics import classification_report\n",
    "\n",
    "print(classification_report(trainLabel,predict_train))"
   ]
  },
  {
   "cell_type": "markdown",
   "metadata": {},
   "source": [
    "The above output shows the performance of the model on training data. The accuracy and the F1 score is around 0.92. Ideally, the perfect model will have the value of 1 for both these metrics, but that is next to impossible in real-world scenarios.\n",
    "\n",
    "The next step is to evaluate the performance of the model on the test data that is done with the lines of code below."
   ]
  },
  {
   "cell_type": "code",
   "execution_count": 8,
   "metadata": {},
   "outputs": [
    {
     "name": "stdout",
     "output_type": "stream",
     "text": [
      "              precision    recall  f1-score   support\n",
      "\n",
      "           1       0.86      0.86      0.86       120\n",
      "           2       0.57      0.47      0.51       120\n",
      "           3       0.28      0.10      0.15       120\n",
      "           4       0.23      0.33      0.27       120\n",
      "           5       0.18      0.17      0.18       120\n",
      "           6       0.27      0.24      0.26       120\n",
      "           7       0.23      0.23      0.23       120\n",
      "           8       0.40      0.55      0.47       120\n",
      "           9       0.38      0.30      0.33       120\n",
      "          10       0.55      0.64      0.59       120\n",
      "          11       0.47      0.47      0.47       120\n",
      "          12       0.28      0.17      0.22       120\n",
      "          13       0.20      0.38      0.26       120\n",
      "          14       0.29      0.35      0.32       120\n",
      "          15       0.24      0.24      0.24       120\n",
      "          16       0.35      0.34      0.34       120\n",
      "          17       0.26      0.20      0.23       120\n",
      "          18       0.27      0.06      0.10       120\n",
      "          19       0.33      0.43      0.38       120\n",
      "          20       0.18      0.21      0.19       120\n",
      "          21       0.21      0.13      0.16       120\n",
      "          22       0.19      0.33      0.24       120\n",
      "          23       0.38      0.53      0.44       120\n",
      "          24       0.30      0.49      0.37       120\n",
      "          25       0.32      0.29      0.30       120\n",
      "          26       0.50      0.34      0.41       120\n",
      "          27       0.48      0.40      0.44       120\n",
      "          28       0.26      0.07      0.12       120\n",
      "\n",
      "    accuracy                           0.33      3360\n",
      "   macro avg       0.34      0.33      0.32      3360\n",
      "weighted avg       0.34      0.33      0.32      3360\n",
      "\n"
     ]
    }
   ],
   "source": [
    "\n",
    "print(classification_report(testLabel,predict_test))"
   ]
  },
  {
   "cell_type": "markdown",
   "metadata": {},
   "source": [
    "The above output shows the performance of the model on test data. The accuracy and F1 scores both around 0.88."
   ]
  },
  {
   "cell_type": "markdown",
   "metadata": {},
   "source": [
    "# Homework 1"
   ]
  },
  {
   "cell_type": "markdown",
   "metadata": {},
   "source": [
    "# Comparing Error Rate with the K Value(range 1 to 40)"
   ]
  },
  {
   "cell_type": "code",
   "execution_count": 32,
   "metadata": {},
   "outputs": [
    {
     "data": {
      "text/plain": [
       "Text(0, 0.5, 'Mean Error')"
      ]
     },
     "execution_count": 32,
     "metadata": {},
     "output_type": "execute_result"
    },
    {
     "data": {
      "image/png": "[encoded data removed]",
      "text/plain": [
       "<Figure size 864x432 with 1 Axes>"
      ]
     },
     "metadata": {
      "needs_background": "light"
     },
     "output_type": "display_data"
    }
   ],
   "source": [
    "from sklearn.neighbors import KNeighborsClassifier\n",
    "error = []\n",
    "\n",
    "# Calculating error for K values between 1 and 40\n",
    "for i in range(1, 40):\n",
    "    knn = KNeighborsClassifier(n_neighbors=i)\n",
    "    knn.fit(x_train, y_train_Class)\n",
    "    pred_i = knn.predict(x_test)\n",
    "    error.append(np.mean(pred_i != y_test_Class))\n",
    "    \n",
    "plt.figure(figsize=(12, 6))\n",
    "plt.plot(range(1, 40), error, color='red', linestyle='dashed', marker='o',\n",
    "         markerfacecolor='blue', markersize=10)\n",
    "plt.title('Error Rate K Value')\n",
    "plt.xlabel('K Value')\n",
    "plt.ylabel('Mean Error')"
   ]
  },
  {
   "cell_type": "code",
   "execution_count": null,
   "metadata": {},
   "outputs": [],
   "source": []
  }
 ],
 "metadata": {
  "kernelspec": {
   "display_name": "Python 3",
   "language": "python",
   "name": "python3"
  },
  "language_info": {
   "codemirror_mode": {
    "name": "ipython",
    "version": 3
   },
   "file_extension": ".py",
   "mimetype": "text/x-python",
   "name": "python",
   "nbconvert_exporter": "python",
   "pygments_lexer": "ipython3",
   "version": "3.7.4"
  }
 },
 "nbformat": 4,
 "nbformat_minor": 2
}
